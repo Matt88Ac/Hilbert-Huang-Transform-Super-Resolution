{
 "cells": [
  {
   "cell_type": "code",
   "execution_count": 1,
   "metadata": {},
   "outputs": [],
   "source": [
    "import pandas as pd\n",
    "import numpy as np\n",
    "from sklearn.neighbors import KNeighborsClassifier\n",
    "from sklearn.tree import DecisionTreeClassifier\n",
    "from sklearn.ensemble import RandomForestClassifier\n",
    "from sklearn.model_selection import train_test_split\n",
    "import matplotlib.pyplot as plt\n",
    "%matplotlib inline"
   ]
  },
  {
   "cell_type": "code",
   "execution_count": 2,
   "metadata": {},
   "outputs": [],
   "source": [
    "df = pd.read_csv('imputed_interpolations.csv')\n",
    "df = df.apply(lambda x: x.astype('category') if x.dtype=='object' else x)\n",
    "to_work = df.copy()\n",
    "interpolations = to_work['Interpolation Method'].unique().astype(str)\n",
    "colors = ['r', 'g', 'b', 'black', 'purple', 'orange', 'yellow']"
   ]
  },
  {
   "cell_type": "markdown",
   "metadata": {
    "pycharm": {
     "name": "#%% md\n"
    }
   },
   "source": [
    "# Data after continuizing the categorical features and normalizing it to [0, 1]"
   ]
  },
  {
   "cell_type": "code",
   "execution_count": 3,
   "metadata": {},
   "outputs": [
    {
     "data": {
      "text/html": [
       "<div>\n",
       "<style scoped>\n",
       "    .dataframe tbody tr th:only-of-type {\n",
       "        vertical-align: middle;\n",
       "    }\n",
       "\n",
       "    .dataframe tbody tr th {\n",
       "        vertical-align: top;\n",
       "    }\n",
       "\n",
       "    .dataframe thead th {\n",
       "        text-align: right;\n",
       "    }\n",
       "</style>\n",
       "<table border=\"1\" class=\"dataframe\">\n",
       "  <thead>\n",
       "    <tr style=\"text-align: right;\">\n",
       "      <th></th>\n",
       "      <th>File Name</th>\n",
       "      <th>IMF Spot</th>\n",
       "      <th>Mean Frequency</th>\n",
       "      <th>Variance Frequency</th>\n",
       "      <th>Rows</th>\n",
       "      <th>Cols</th>\n",
       "      <th>Median Frequency</th>\n",
       "      <th>Skewness Frequency</th>\n",
       "      <th>Kurtosis Frequency</th>\n",
       "      <th>Mean Color</th>\n",
       "      <th>Variance Color</th>\n",
       "      <th>Median Color</th>\n",
       "      <th>Skewness Color</th>\n",
       "      <th>Kurtosis Color</th>\n",
       "      <th>Interpolation Method</th>\n",
       "    </tr>\n",
       "  </thead>\n",
       "  <tbody>\n",
       "    <tr>\n",
       "      <th>0</th>\n",
       "      <td>1.0</td>\n",
       "      <td>0.000000</td>\n",
       "      <td>0.004784</td>\n",
       "      <td>2.423604e-07</td>\n",
       "      <td>0.084574</td>\n",
       "      <td>0.100508</td>\n",
       "      <td>0.043438</td>\n",
       "      <td>0.001572</td>\n",
       "      <td>0.001220</td>\n",
       "      <td>0.493603</td>\n",
       "      <td>0.003684</td>\n",
       "      <td>0.022666</td>\n",
       "      <td>0.392027</td>\n",
       "      <td>0.001301</td>\n",
       "      <td>Lanczos4</td>\n",
       "    </tr>\n",
       "    <tr>\n",
       "      <th>1</th>\n",
       "      <td>1.0</td>\n",
       "      <td>0.416667</td>\n",
       "      <td>0.003547</td>\n",
       "      <td>5.993255e-07</td>\n",
       "      <td>0.084574</td>\n",
       "      <td>0.100508</td>\n",
       "      <td>0.035244</td>\n",
       "      <td>0.000873</td>\n",
       "      <td>0.000705</td>\n",
       "      <td>0.490290</td>\n",
       "      <td>0.003309</td>\n",
       "      <td>0.022335</td>\n",
       "      <td>0.391303</td>\n",
       "      <td>0.000908</td>\n",
       "      <td>Lanczos4</td>\n",
       "    </tr>\n",
       "    <tr>\n",
       "      <th>2</th>\n",
       "      <td>1.0</td>\n",
       "      <td>0.500000</td>\n",
       "      <td>0.003044</td>\n",
       "      <td>8.356278e-07</td>\n",
       "      <td>0.084574</td>\n",
       "      <td>0.100508</td>\n",
       "      <td>0.027227</td>\n",
       "      <td>0.000115</td>\n",
       "      <td>0.000019</td>\n",
       "      <td>0.492328</td>\n",
       "      <td>0.001183</td>\n",
       "      <td>0.022302</td>\n",
       "      <td>0.392077</td>\n",
       "      <td>0.000072</td>\n",
       "      <td>Lanczos4</td>\n",
       "    </tr>\n",
       "    <tr>\n",
       "      <th>3</th>\n",
       "      <td>1.0</td>\n",
       "      <td>0.583333</td>\n",
       "      <td>0.003309</td>\n",
       "      <td>1.889621e-06</td>\n",
       "      <td>0.084574</td>\n",
       "      <td>0.100508</td>\n",
       "      <td>0.027076</td>\n",
       "      <td>0.000144</td>\n",
       "      <td>0.000028</td>\n",
       "      <td>0.493358</td>\n",
       "      <td>0.001320</td>\n",
       "      <td>0.022663</td>\n",
       "      <td>0.392018</td>\n",
       "      <td>0.000179</td>\n",
       "      <td>Bicubic</td>\n",
       "    </tr>\n",
       "    <tr>\n",
       "      <th>4</th>\n",
       "      <td>1.0</td>\n",
       "      <td>0.666667</td>\n",
       "      <td>0.003916</td>\n",
       "      <td>1.233620e-05</td>\n",
       "      <td>0.084574</td>\n",
       "      <td>0.100508</td>\n",
       "      <td>0.023281</td>\n",
       "      <td>0.000029</td>\n",
       "      <td>0.000004</td>\n",
       "      <td>0.573934</td>\n",
       "      <td>0.001730</td>\n",
       "      <td>0.194509</td>\n",
       "      <td>0.392102</td>\n",
       "      <td>0.000010</td>\n",
       "      <td>Lanczos4</td>\n",
       "    </tr>\n",
       "  </tbody>\n",
       "</table>\n",
       "</div>"
      ],
      "text/plain": [
       "   File Name  IMF Spot  Mean Frequency  Variance Frequency      Rows  \\\n",
       "0        1.0  0.000000        0.004784        2.423604e-07  0.084574   \n",
       "1        1.0  0.416667        0.003547        5.993255e-07  0.084574   \n",
       "2        1.0  0.500000        0.003044        8.356278e-07  0.084574   \n",
       "3        1.0  0.583333        0.003309        1.889621e-06  0.084574   \n",
       "4        1.0  0.666667        0.003916        1.233620e-05  0.084574   \n",
       "\n",
       "       Cols  Median Frequency  Skewness Frequency  Kurtosis Frequency  \\\n",
       "0  0.100508          0.043438            0.001572            0.001220   \n",
       "1  0.100508          0.035244            0.000873            0.000705   \n",
       "2  0.100508          0.027227            0.000115            0.000019   \n",
       "3  0.100508          0.027076            0.000144            0.000028   \n",
       "4  0.100508          0.023281            0.000029            0.000004   \n",
       "\n",
       "   Mean Color  Variance Color  Median Color  Skewness Color  Kurtosis Color  \\\n",
       "0    0.493603        0.003684      0.022666        0.392027        0.001301   \n",
       "1    0.490290        0.003309      0.022335        0.391303        0.000908   \n",
       "2    0.492328        0.001183      0.022302        0.392077        0.000072   \n",
       "3    0.493358        0.001320      0.022663        0.392018        0.000179   \n",
       "4    0.573934        0.001730      0.194509        0.392102        0.000010   \n",
       "\n",
       "  Interpolation Method  \n",
       "0             Lanczos4  \n",
       "1             Lanczos4  \n",
       "2             Lanczos4  \n",
       "3              Bicubic  \n",
       "4             Lanczos4  "
      ]
     },
     "execution_count": 3,
     "metadata": {},
     "output_type": "execute_result"
    }
   ],
   "source": [
    "df.head()"
   ]
  },
  {
   "cell_type": "markdown",
   "metadata": {
    "pycharm": {
     "name": "#%%\n"
    }
   },
   "source": [
    "# Defining Models + Train-Test Splitting"
   ]
  },
  {
   "cell_type": "code",
   "execution_count": 4,
   "metadata": {
    "pycharm": {
     "name": "#%%\n"
    }
   },
   "outputs": [],
   "source": [
    "target = to_work['Interpolation Method'].to_numpy()\n",
    "to_work = to_work.drop(columns='Interpolation Method').to_numpy()\n",
    "#to_work = minmax_scale(to_work)\n",
    "#target = minmax_scale(target)"
   ]
  },
  {
   "cell_type": "code",
   "execution_count": 5,
   "metadata": {
    "pycharm": {
     "name": "#%%\n"
    }
   },
   "outputs": [],
   "source": [
    "x_train, x_test, y_train, y_test = train_test_split(to_work, target)"
   ]
  },
  {
   "cell_type": "markdown",
   "metadata": {
    "pycharm": {
     "name": "#%% md\n"
    }
   },
   "source": [
    "# Defining and training the models"
   ]
  },
  {
   "cell_type": "code",
   "execution_count": 6,
   "metadata": {
    "pycharm": {
     "name": "#%%\n"
    }
   },
   "outputs": [
    {
     "data": {
      "text/plain": [
       "RandomForestClassifier()"
      ]
     },
     "execution_count": 6,
     "metadata": {},
     "output_type": "execute_result"
    }
   ],
   "source": [
    "random_forest = RandomForestClassifier()\n",
    "random_forest.fit(x_train, y_train)"
   ]
  },
  {
   "cell_type": "code",
   "execution_count": 7,
   "metadata": {
    "pycharm": {
     "name": "#%%\n"
    }
   },
   "outputs": [
    {
     "data": {
      "text/plain": [
       "KNeighborsClassifier()"
      ]
     },
     "execution_count": 7,
     "metadata": {},
     "output_type": "execute_result"
    }
   ],
   "source": [
    "knn = KNeighborsClassifier()\n",
    "knn.fit(x_train, y_train)"
   ]
  },
  {
   "cell_type": "code",
   "execution_count": 8,
   "metadata": {
    "pycharm": {
     "name": "#%%\n"
    }
   },
   "outputs": [
    {
     "data": {
      "text/plain": [
       "DecisionTreeClassifier()"
      ]
     },
     "execution_count": 8,
     "metadata": {},
     "output_type": "execute_result"
    }
   ],
   "source": [
    "desicion_tree = DecisionTreeClassifier()\n",
    "desicion_tree.fit(x_train, y_train)"
   ]
  },
  {
   "cell_type": "markdown",
   "metadata": {
    "pycharm": {
     "name": "#%% md\n"
    }
   },
   "source": [
    "# Testing the models"
   ]
  },
  {
   "cell_type": "code",
   "execution_count": 9,
   "metadata": {
    "pycharm": {
     "name": "#%%\n"
    }
   },
   "outputs": [
    {
     "data": {
      "text/plain": [
       "0.7826201796090861"
      ]
     },
     "execution_count": 9,
     "metadata": {},
     "output_type": "execute_result"
    }
   ],
   "source": [
    "(knn.predict(x_test) == y_test).sum()/len(x_test)"
   ]
  },
  {
   "cell_type": "code",
   "execution_count": 10,
   "metadata": {
    "pycharm": {
     "name": "#%%\n"
    }
   },
   "outputs": [
    {
     "data": {
      "text/plain": [
       "0.8457474907554147"
      ]
     },
     "execution_count": 10,
     "metadata": {},
     "output_type": "execute_result"
    }
   ],
   "source": [
    "(desicion_tree.predict(x_test) == y_test).sum()/len(x_test)"
   ]
  },
  {
   "cell_type": "code",
   "execution_count": 11,
   "metadata": {
    "pycharm": {
     "name": "#%%\n"
    }
   },
   "outputs": [
    {
     "data": {
      "text/plain": [
       "0.8795562599049128"
      ]
     },
     "execution_count": 11,
     "metadata": {},
     "output_type": "execute_result"
    }
   ],
   "source": [
    "(random_forest.predict(x_test) == y_test).sum()/len(x_test)"
   ]
  },
  {
   "cell_type": "raw",
   "metadata": {
    "pycharm": {
     "name": "#%%\n"
    }
   },
   "source": [
    "It's clear that the Random Forest model makes the best results, and the results themselves are great."
   ]
  },
  {
   "cell_type": "code",
   "execution_count": 12,
   "metadata": {
    "pycharm": {
     "name": "#%%\n"
    }
   },
   "outputs": [],
   "source": [
    "# Saving the model for further use\n",
    "#import pickle\n",
    "#filename = 'random_forest_model.pkl'\n",
    "#pickle.dump(random_forest, open(filename, 'wb'))"
   ]
  },
  {
   "cell_type": "raw",
   "metadata": {
    "pycharm": {
     "name": "#%%\n"
    }
   },
   "source": [
    "Let's try optimize our results:"
   ]
  },
  {
   "cell_type": "code",
   "execution_count": 22,
   "metadata": {},
   "outputs": [
    {
     "data": {
      "text/plain": [
       "RandomForestClassifier(criterion='entropy', n_estimators=110, random_state=42)"
      ]
     },
     "execution_count": 22,
     "metadata": {},
     "output_type": "execute_result"
    }
   ],
   "source": [
    "random_forest = RandomForestClassifier(110, criterion='entropy', random_state=42)\n",
    "random_forest.fit(x_train, y_train)"
   ]
  },
  {
   "cell_type": "code",
   "execution_count": null,
   "outputs": [],
   "source": [
    "predictions = random_forest.predict(x_test)\n",
    "(predictions == y_test).sum()/len(x_test)"
   ],
   "metadata": {
    "collapsed": false,
    "pycharm": {
     "name": "#%%\n"
    }
   }
  },
  {
   "cell_type": "code",
   "execution_count": null,
   "outputs": [],
   "source": [],
   "metadata": {
    "collapsed": false,
    "pycharm": {
     "name": "#%%\n"
    }
   }
  },
  {
   "cell_type": "code",
   "execution_count": null,
   "outputs": [],
   "source": [],
   "metadata": {
    "collapsed": false,
    "pycharm": {
     "name": "#%%\n"
    }
   }
  },
  {
   "cell_type": "code",
   "execution_count": null,
   "outputs": [],
   "source": [],
   "metadata": {
    "collapsed": false,
    "pycharm": {
     "name": "#%%\n"
    }
   }
  },
  {
   "cell_type": "code",
   "execution_count": null,
   "outputs": [],
   "source": [],
   "metadata": {
    "collapsed": false,
    "pycharm": {
     "name": "#%%\n"
    }
   }
  },
  {
   "cell_type": "code",
   "execution_count": null,
   "outputs": [],
   "source": [],
   "metadata": {
    "collapsed": false,
    "pycharm": {
     "name": "#%%\n"
    }
   }
  },
  {
   "cell_type": "code",
   "execution_count": null,
   "outputs": [],
   "source": [],
   "metadata": {
    "collapsed": false,
    "pycharm": {
     "name": "#%%\n"
    }
   }
  },
  {
   "cell_type": "code",
   "execution_count": 23,
   "metadata": {},
   "outputs": [
    {
     "data": {
      "text/plain": [
       "0.8803486529318542"
      ]
     },
     "execution_count": 23,
     "metadata": {},
     "output_type": "execute_result"
    }
   ],
   "source": []
  },
  {
   "cell_type": "code",
   "execution_count": null,
   "metadata": {},
   "outputs": [],
   "source": []
  },
  {
   "cell_type": "code",
   "execution_count": null,
   "metadata": {},
   "outputs": [],
   "source": []
  },
  {
   "cell_type": "code",
   "execution_count": null,
   "metadata": {},
   "outputs": [],
   "source": []
  },
  {
   "cell_type": "code",
   "execution_count": null,
   "metadata": {},
   "outputs": [],
   "source": []
  },
  {
   "cell_type": "code",
   "execution_count": null,
   "metadata": {},
   "outputs": [],
   "source": []
  },
  {
   "cell_type": "code",
   "execution_count": null,
   "metadata": {},
   "outputs": [],
   "source": []
  },
  {
   "cell_type": "code",
   "execution_count": null,
   "metadata": {},
   "outputs": [],
   "source": []
  }
 ],
 "metadata": {
  "kernelspec": {
   "display_name": "Python 3.7.7 64-bit",
   "language": "python",
   "name": "python37764bitfcaeba8ec0034e88ab2ae4e6f7b7e14a"
  },
  "language_info": {
   "codemirror_mode": {
    "name": "ipython",
    "version": 3
   },
   "file_extension": ".py",
   "mimetype": "text/x-python",
   "name": "python",
   "nbconvert_exporter": "python",
   "pygments_lexer": "ipython3",
   "version": "3.7.7"
  }
 },
 "nbformat": 4,
 "nbformat_minor": 4
}