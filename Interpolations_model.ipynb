{
 "cells": [
  {
   "cell_type": "code",
   "execution_count": 1,
   "metadata": {},
   "outputs": [],
   "source": [
    "import pandas as pd\n",
    "import numpy as np\n",
    "from sklearn.neighbors import KNeighborsClassifier\n",
    "from sklearn.tree import DecisionTreeClassifier\n",
    "from sklearn.ensemble import RandomForestClassifier\n",
    "from sklearn.model_selection import train_test_split\n",
    "import matplotlib.pyplot as plt\n",
    "%matplotlib inline"
   ]
  },
  {
   "cell_type": "code",
   "execution_count": 2,
   "metadata": {},
   "outputs": [],
   "source": [
    "df = pd.read_csv('imputed_interpolations.csv')\n",
    "df = df.drop(columns = 'IMF Spot')\n",
    "df = df.apply(lambda x: x.astype('category') if x.dtype=='object' else x)\n",
    "to_work = df.copy()\n",
    "interpolations = to_work['Interpolation Method'].unique().astype(str)\n",
    "colors = ['r', 'g', 'b', 'black', 'purple', 'orange', 'yellow']"
   ]
  },
  {
   "cell_type": "markdown",
   "metadata": {
    "pycharm": {
     "name": "#%% md\n"
    }
   },
   "source": [
    "# Data without categorical features and without normalizing"
   ]
  },
  {
   "cell_type": "code",
   "execution_count": 3,
   "metadata": {},
   "outputs": [
    {
     "data": {
      "text/plain": "   Mean Frequency  Variance Frequency   Rows   Cols  Median Frequency  \\\n0    65818.750159        6.423676e+10  480.0  640.0      20776.810283   \n1    87890.692769        1.132367e+11  480.0  640.0      27737.539819   \n2    47013.060751        2.967797e+10  480.0  640.0      15362.985279   \n3    51967.313185        3.866742e+10  480.0  640.0      16893.375866   \n4    33656.254725        1.546772e+10  480.0  640.0      10946.170528   \n\n   Skewness Frequency  Kurtosis Frequency  Mean Color  Variance Color  \\\n0        1.935814e+17        7.920839e+23   19.100767   222841.121472   \n1        4.293371e+17        2.131216e+24  -27.426445   393002.708960   \n2        5.294232e+16        1.195883e+23   -4.069003   103786.167805   \n3        8.079948e+16        2.138331e+23   -0.529587   134661.234589   \n4        1.986060e+16        3.284820e+22   13.369099    53859.235616   \n\n   Median Color  Skewness Color  Kurtosis Color Interpolation Method  \n0     -0.016074    7.985547e+08    9.956162e+12              Bicubic  \n1     -0.005735   -1.713181e+09    2.683947e+13             Lanczos4  \n2     -0.037379    7.207296e+07    1.569154e+12             Lanczos4  \n3     -0.025672   -1.328439e+08    3.802050e+12              Bicubic  \n4      0.728540    2.468699e+08    2.023371e+12              Bicubic  ",
      "text/html": "<div>\n<style scoped>\n    .dataframe tbody tr th:only-of-type {\n        vertical-align: middle;\n    }\n\n    .dataframe tbody tr th {\n        vertical-align: top;\n    }\n\n    .dataframe thead th {\n        text-align: right;\n    }\n</style>\n<table border=\"1\" class=\"dataframe\">\n  <thead>\n    <tr style=\"text-align: right;\">\n      <th></th>\n      <th>Mean Frequency</th>\n      <th>Variance Frequency</th>\n      <th>Rows</th>\n      <th>Cols</th>\n      <th>Median Frequency</th>\n      <th>Skewness Frequency</th>\n      <th>Kurtosis Frequency</th>\n      <th>Mean Color</th>\n      <th>Variance Color</th>\n      <th>Median Color</th>\n      <th>Skewness Color</th>\n      <th>Kurtosis Color</th>\n      <th>Interpolation Method</th>\n    </tr>\n  </thead>\n  <tbody>\n    <tr>\n      <th>0</th>\n      <td>65818.750159</td>\n      <td>6.423676e+10</td>\n      <td>480.0</td>\n      <td>640.0</td>\n      <td>20776.810283</td>\n      <td>1.935814e+17</td>\n      <td>7.920839e+23</td>\n      <td>19.100767</td>\n      <td>222841.121472</td>\n      <td>-0.016074</td>\n      <td>7.985547e+08</td>\n      <td>9.956162e+12</td>\n      <td>Bicubic</td>\n    </tr>\n    <tr>\n      <th>1</th>\n      <td>87890.692769</td>\n      <td>1.132367e+11</td>\n      <td>480.0</td>\n      <td>640.0</td>\n      <td>27737.539819</td>\n      <td>4.293371e+17</td>\n      <td>2.131216e+24</td>\n      <td>-27.426445</td>\n      <td>393002.708960</td>\n      <td>-0.005735</td>\n      <td>-1.713181e+09</td>\n      <td>2.683947e+13</td>\n      <td>Lanczos4</td>\n    </tr>\n    <tr>\n      <th>2</th>\n      <td>47013.060751</td>\n      <td>2.967797e+10</td>\n      <td>480.0</td>\n      <td>640.0</td>\n      <td>15362.985279</td>\n      <td>5.294232e+16</td>\n      <td>1.195883e+23</td>\n      <td>-4.069003</td>\n      <td>103786.167805</td>\n      <td>-0.037379</td>\n      <td>7.207296e+07</td>\n      <td>1.569154e+12</td>\n      <td>Lanczos4</td>\n    </tr>\n    <tr>\n      <th>3</th>\n      <td>51967.313185</td>\n      <td>3.866742e+10</td>\n      <td>480.0</td>\n      <td>640.0</td>\n      <td>16893.375866</td>\n      <td>8.079948e+16</td>\n      <td>2.138331e+23</td>\n      <td>-0.529587</td>\n      <td>134661.234589</td>\n      <td>-0.025672</td>\n      <td>-1.328439e+08</td>\n      <td>3.802050e+12</td>\n      <td>Bicubic</td>\n    </tr>\n    <tr>\n      <th>4</th>\n      <td>33656.254725</td>\n      <td>1.546772e+10</td>\n      <td>480.0</td>\n      <td>640.0</td>\n      <td>10946.170528</td>\n      <td>1.986060e+16</td>\n      <td>3.284820e+22</td>\n      <td>13.369099</td>\n      <td>53859.235616</td>\n      <td>0.728540</td>\n      <td>2.468699e+08</td>\n      <td>2.023371e+12</td>\n      <td>Bicubic</td>\n    </tr>\n  </tbody>\n</table>\n</div>"
     },
     "execution_count": 3,
     "metadata": {},
     "output_type": "execute_result"
    }
   ],
   "source": [
    "df.head()"
   ]
  },
  {
   "cell_type": "markdown",
   "metadata": {
    "pycharm": {
     "name": "#%%\n"
    }
   },
   "source": [
    "# Defining Models + Train-Test Splitting"
   ]
  },
  {
   "cell_type": "code",
   "execution_count": 4,
   "metadata": {
    "pycharm": {
     "name": "#%%\n"
    }
   },
   "outputs": [],
   "source": [
    "target = to_work['Interpolation Method'].to_numpy()\n",
    "to_work = to_work.drop(columns='Interpolation Method').to_numpy()\n",
    "#to_work = minmax_scale(to_work)\n",
    "#target = minmax_scale(target)"
   ]
  },
  {
   "cell_type": "code",
   "execution_count": 5,
   "metadata": {
    "pycharm": {
     "name": "#%%\n"
    }
   },
   "outputs": [],
   "source": [
    "x_train, x_test, y_train, y_test = train_test_split(to_work, target)"
   ]
  },
  {
   "cell_type": "markdown",
   "metadata": {
    "pycharm": {
     "name": "#%% md\n"
    }
   },
   "source": [
    "# Defining and training the models"
   ]
  },
  {
   "cell_type": "code",
   "execution_count": 6,
   "metadata": {
    "pycharm": {
     "name": "#%%\n"
    }
   },
   "outputs": [
    {
     "data": {
      "text/plain": "RandomForestClassifier()"
     },
     "execution_count": 6,
     "metadata": {},
     "output_type": "execute_result"
    }
   ],
   "source": [
    "random_forest = RandomForestClassifier()\n",
    "random_forest.fit(x_train, y_train)"
   ]
  },
  {
   "cell_type": "code",
   "execution_count": 7,
   "metadata": {
    "pycharm": {
     "name": "#%%\n"
    }
   },
   "outputs": [
    {
     "data": {
      "text/plain": "KNeighborsClassifier()"
     },
     "execution_count": 7,
     "metadata": {},
     "output_type": "execute_result"
    }
   ],
   "source": [
    "knn = KNeighborsClassifier()\n",
    "knn.fit(x_train, y_train)"
   ]
  },
  {
   "cell_type": "code",
   "execution_count": 8,
   "metadata": {
    "pycharm": {
     "name": "#%%\n"
    }
   },
   "outputs": [
    {
     "data": {
      "text/plain": "DecisionTreeClassifier()"
     },
     "execution_count": 8,
     "metadata": {},
     "output_type": "execute_result"
    }
   ],
   "source": [
    "desicion_tree = DecisionTreeClassifier()\n",
    "desicion_tree.fit(x_train, y_train)"
   ]
  },
  {
   "cell_type": "markdown",
   "metadata": {
    "pycharm": {
     "name": "#%% md\n"
    }
   },
   "source": [
    "# Testing the models"
   ]
  },
  {
   "cell_type": "code",
   "execution_count": 9,
   "metadata": {
    "pycharm": {
     "name": "#%%\n"
    }
   },
   "outputs": [
    {
     "data": {
      "text/plain": "0.7945205479452054"
     },
     "execution_count": 9,
     "metadata": {},
     "output_type": "execute_result"
    }
   ],
   "source": [
    "knn.score(x_test, y_test)"
   ]
  },
  {
   "cell_type": "code",
   "execution_count": 10,
   "metadata": {
    "pycharm": {
     "name": "#%%\n"
    }
   },
   "outputs": [
    {
     "data": {
      "text/plain": "0.8697469236127234"
     },
     "execution_count": 10,
     "metadata": {},
     "output_type": "execute_result"
    }
   ],
   "source": [
    "desicion_tree.score(x_test, y_test)"
   ]
  },
  {
   "cell_type": "code",
   "execution_count": 11,
   "metadata": {
    "pycharm": {
     "name": "#%%\n"
    }
   },
   "outputs": [
    {
     "data": {
      "text/plain": "0.9022521476665892"
     },
     "execution_count": 11,
     "metadata": {},
     "output_type": "execute_result"
    }
   ],
   "source": [
    "random_forest.score(x_test, y_test)"
   ]
  },
  {
   "cell_type": "markdown",
   "metadata": {
    "pycharm": {
     "name": "#%% md\n"
    }
   },
   "source": [
    "It's clear that the Random Forest model makes the best results, and the results themselves are great."
   ]
  },
  {
   "cell_type": "code",
   "execution_count": 12,
   "metadata": {
    "pycharm": {
     "name": "#%%\n"
    }
   },
   "outputs": [],
   "source": [
    "# Saving the model for further use\n",
    "#import pickle\n",
    "#filename = 'random_forest_model.pkl'\n",
    "#pickle.dump(random_forest, open(filename, 'wb'))"
   ]
  },
  {
   "cell_type": "markdown",
   "metadata": {
    "pycharm": {
     "name": "#%% md\n"
    }
   },
   "source": [
    "Let's try optimize our results:"
   ]
  },
  {
   "cell_type": "code",
   "execution_count": 13,
   "metadata": {},
   "outputs": [
    {
     "data": {
      "text/plain": "RandomForestClassifier(criterion='entropy', n_estimators=110, random_state=42)"
     },
     "execution_count": 13,
     "metadata": {},
     "output_type": "execute_result"
    }
   ],
   "source": [
    "random_forest = RandomForestClassifier(110, criterion='entropy', random_state=42)\n",
    "random_forest.fit(x_train, y_train)"
   ]
  },
  {
   "cell_type": "code",
   "execution_count": 14,
   "metadata": {
    "pycharm": {
     "name": "#%%\n"
    }
   },
   "outputs": [
    {
     "data": {
      "text/plain": "0.9045739493847226"
     },
     "execution_count": 14,
     "metadata": {},
     "output_type": "execute_result"
    }
   ],
   "source": [
    "predictions = random_forest.predict(x_test)\n",
    "(predictions == y_test).sum()/len(x_test)"
   ]
  },
  {
   "cell_type": "code",
   "execution_count": 14,
   "metadata": {
    "pycharm": {
     "name": "#%%\n"
    }
   },
   "outputs": [],
   "source": []
  },
  {
   "cell_type": "code",
   "execution_count": 14,
   "metadata": {
    "pycharm": {
     "name": "#%%\n"
    }
   },
   "outputs": [],
   "source": []
  },
  {
   "cell_type": "code",
   "execution_count": 14,
   "metadata": {
    "pycharm": {
     "name": "#%%\n"
    }
   },
   "outputs": [],
   "source": []
  },
  {
   "cell_type": "code",
   "execution_count": 14,
   "metadata": {
    "pycharm": {
     "name": "#%%\n"
    }
   },
   "outputs": [],
   "source": []
  },
  {
   "cell_type": "code",
   "execution_count": 14,
   "metadata": {
    "pycharm": {
     "name": "#%%\n"
    }
   },
   "outputs": [],
   "source": []
  },
  {
   "cell_type": "code",
   "execution_count": 14,
   "metadata": {
    "pycharm": {
     "name": "#%%\n"
    }
   },
   "outputs": [],
   "source": []
  },
  {
   "cell_type": "code",
   "execution_count": 14,
   "metadata": {},
   "outputs": [],
   "source": []
  },
  {
   "cell_type": "code",
   "execution_count": 14,
   "metadata": {},
   "outputs": [],
   "source": []
  },
  {
   "cell_type": "code",
   "execution_count": 14,
   "metadata": {},
   "outputs": [],
   "source": []
  },
  {
   "cell_type": "code",
   "execution_count": 14,
   "metadata": {},
   "outputs": [],
   "source": []
  },
  {
   "cell_type": "code",
   "execution_count": 14,
   "metadata": {},
   "outputs": [],
   "source": []
  },
  {
   "cell_type": "code",
   "execution_count": 14,
   "metadata": {},
   "outputs": [],
   "source": []
  },
  {
   "cell_type": "code",
   "execution_count": 14,
   "metadata": {},
   "outputs": [],
   "source": []
  },
  {
   "cell_type": "code",
   "execution_count": 14,
   "metadata": {},
   "outputs": [],
   "source": []
  }
 ],
 "metadata": {
  "kernelspec": {
   "display_name": "Python 3.7.7 64-bit",
   "language": "python",
   "name": "python37764bitfcaeba8ec0034e88ab2ae4e6f7b7e14a"
  },
  "language_info": {
   "codemirror_mode": {
    "name": "ipython",
    "version": 3
   },
   "file_extension": ".py",
   "mimetype": "text/x-python",
   "name": "python",
   "nbconvert_exporter": "python",
   "pygments_lexer": "ipython3",
   "version": "3.7.7"
  }
 },
 "nbformat": 4,
 "nbformat_minor": 4
}