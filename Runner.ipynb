{
 "cells": [
  {
   "cell_type": "code",
   "execution_count": 3,
   "metadata": {
    "collapsed": true
   },
   "outputs": [],
   "source": [
    "from First_Mission_Scripts import Run"
   ]
  },
  {
   "cell_type": "code",
   "execution_count": null,
   "outputs": [
    {
     "name": "stdout",
     "output_type": "stream",
     "text": [
      "zebra.jpg\n",
      "zebra.jpeg\n",
      "Mode 2, Iteration 600\n",
      "0 minima > 0; 24 maxima < 0.\n",
      "Mode 5, Iteration 800\n",
      "0 minima > 0; 4 maxima < 0.\n",
      "yacht.jpg\n",
      "Mode 5, Iteration 600\n",
      "0 minima > 0; 14 maxima < 0.\n",
      "Mode 6, Iteration 600\n",
      "1 minima > 0; 9 maxima < 0.\n",
      "Mode 7, Iteration 600\n",
      "0 minima > 0; 5 maxima < 0.\n",
      "Mode 6, Iteration 600\n",
      "1 minima > 0; 8 maxima < 0.\n",
      "Mode 6, Iteration 800\n",
      "1 minima > 0; 7 maxima < 0.\n",
      "Mode 6, Iteration 1000\n",
      "1 minima > 0; 7 maxima < 0.\n",
      "Mode 7, Iteration 1200\n",
      "1 minima > 0; 5 maxima < 0.\n",
      "Mode 7, Iteration 600\n",
      "0 minima > 0; 5 maxima < 0.\n",
      "Mode 6, Iteration 600\n",
      "0 minima > 0; 5 maxima < 0.\n",
      "Mode 6, Iteration 800\n",
      "0 minima > 0; 8 maxima < 0.\n",
      "Mode 5, Iteration 600\n",
      "1 minima > 0; 15 maxima < 0.\n",
      "Mode 7, Iteration 600\n",
      "0 minima > 0; 7 maxima < 0.\n",
      "Mode 4, Iteration 600\n",
      "1 minima > 0; 26 maxima < 0.\n",
      "Mode 4, Iteration 800\n",
      "2 minima > 0; 25 maxima < 0.\n",
      "Mode 5, Iteration 1000\n",
      "0 minima > 0; 21 maxima < 0.\n",
      "Mode 6, Iteration 1200\n",
      "0 minima > 0; 13 maxima < 0.\n",
      "Mode 6, Iteration 1400\n",
      "1 minima > 0; 12 maxima < 0.\n",
      "Mode 8, Iteration 1600\n",
      "0 minima > 0; 4 maxima < 0.\n",
      "Mode 6, Iteration 600\n",
      "0 minima > 0; 11 maxima < 0.\n",
      "Mode 6, Iteration 600\n",
      "0 minima > 0; 8 maxima < 0.\n",
      "Mode 7, Iteration 800\n",
      "0 minima > 0; 8 maxima < 0.\n",
      "Mode 8, Iteration 1000\n",
      "1 minima > 0; 4 maxima < 0.\n",
      "Mode 9, Iteration 1200\n",
      "0 minima > 0; 3 maxima < 0.\n",
      "Mode 6, Iteration 600\n",
      "0 minima > 0; 4 maxima < 0.\n",
      "Mode 5, Iteration 600\n",
      "0 minima > 0; 15 maxima < 0.\n",
      "Mode 7, Iteration 800\n",
      "0 minima > 0; 6 maxima < 0.\n",
      "Mode 7, Iteration 1000\n",
      "0 minima > 0; 4 maxima < 0.\n",
      "Mode 7, Iteration 1200\n",
      "0 minima > 0; 4 maxima < 0.\n",
      "Mode 5, Iteration 600\n",
      "0 minima > 0; 16 maxima < 0.\n",
      "Mode 7, Iteration 600\n",
      "0 minima > 0; 5 maxima < 0.\n",
      "Mode 6, Iteration 600\n",
      "0 minima > 0; 4 maxima < 0.\n",
      "Mode 5, Iteration 600\n",
      "0 minima > 0; 16 maxima < 0.\n",
      "Mode 4, Iteration 600\n",
      "0 minima > 0; 25 maxima < 0.\n",
      "Mode 3, Iteration 600\n",
      "0 minima > 0; 30 maxima < 0.\n",
      "Mode 3, Iteration 800\n",
      "0 minima > 0; 30 maxima < 0.\n",
      "Mode 7, Iteration 600\n",
      "0 minima > 0; 5 maxima < 0.\n",
      "Mode 6, Iteration 600\n",
      "0 minima > 0; 7 maxima < 0.\n",
      "Mode 6, Iteration 600\n",
      "0 minima > 0; 7 maxima < 0.\n",
      "Mode 4, Iteration 600\n",
      "1 minima > 0; 21 maxima < 0.\n",
      "Mode 5, Iteration 800\n",
      "0 minima > 0; 16 maxima < 0.\n",
      "Mode 8, Iteration 600\n",
      "1 minima > 0; 4 maxima < 0.\n"
     ]
    }
   ],
   "source": [
    "x1 = Run('FirstDataFrame2.csv')\n",
    "x1.RunGreys()"
   ],
   "metadata": {
    "collapsed": false,
    "pycharm": {
     "name": "#%%\n",
     "is_executing": true
    }
   }
  },
  {
   "cell_type": "code",
   "execution_count": null,
   "outputs": [],
   "source": [],
   "metadata": {
    "collapsed": false,
    "pycharm": {
     "name": "#%%\n"
    }
   }
  },
  {
   "cell_type": "code",
   "execution_count": null,
   "outputs": [],
   "source": [
    "\n"
   ],
   "metadata": {
    "collapsed": false,
    "pycharm": {
     "name": "#%%\n"
    }
   }
  }
 ],
 "metadata": {
  "kernelspec": {
   "name": "python37764bitfcaeba8ec0034e88ab2ae4e6f7b7e14a",
   "language": "python",
   "display_name": "Python 3.7.7 64-bit"
  },
  "language_info": {
   "codemirror_mode": {
    "name": "ipython",
    "version": 2
   },
   "file_extension": ".py",
   "mimetype": "text/x-python",
   "name": "python",
   "nbconvert_exporter": "python",
   "pygments_lexer": "ipython2",
   "version": "2.7.6"
  }
 },
 "nbformat": 4,
 "nbformat_minor": 0
}