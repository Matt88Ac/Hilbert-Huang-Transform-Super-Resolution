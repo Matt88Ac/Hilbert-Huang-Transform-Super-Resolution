{
 "cells": [
  {
   "cell_type": "code",
   "execution_count": 1,
   "metadata": {
    "collapsed": true
   },
   "outputs": [],
   "source": [
    "from First_Mission_Scripts import Run\n",
    "import cv2\n",
    "from EMD2D import EMD2D\n",
    "from matplotlib.pyplot import imshow\n",
    "import numpy as np"
   ]
  },
  {
   "cell_type": "code",
   "execution_count": null,
   "outputs": [
    {
     "name": "stdout",
     "output_type": "stream",
     "text": [
      "watermark_no_copy.png\n",
      "Mode 1, Iteration 600\n",
      "0 minima > 0; 10 maxima < 0.\n",
      "Mode 3, Iteration 800\n",
      "0 minima > 0; 3 maxima < 0.\n",
      "Mode 1, Iteration 600\n",
      "0 minima > 0; 11 maxima < 0.\n",
      "Mode 1, Iteration 800\n",
      "0 minima > 0; 12 maxima < 0.\n",
      "Mode 1, Iteration 1000\n",
      "1 minima > 0; 10 maxima < 0.\n",
      "Mode 1, Iteration 1200\n",
      "1 minima > 0; 10 maxima < 0.\n",
      "Mode 1, Iteration 1400\n",
      "2 minima > 0; 10 maxima < 0.\n",
      "Mode 1, Iteration 1600\n",
      "0 minima > 0; 11 maxima < 0.\n",
      "Mode 1, Iteration 1800\n",
      "1 minima > 0; 10 maxima < 0.\n",
      "Mode 4, Iteration 600\n",
      "0 minima > 0; 3 maxima < 0.\n",
      "Mode 1, Iteration 600\n",
      "1 minima > 0; 22 maxima < 0.\n",
      "Mode 3, Iteration 800\n",
      "0 minima > 0; 7 maxima < 0.\n",
      "Mode 1, Iteration 600\n",
      "0 minima > 0; 20 maxima < 0.\n",
      "Mode 1, Iteration 800\n",
      "0 minima > 0; 20 maxima < 0.\n",
      "Mode 1, Iteration 1000\n",
      "0 minima > 0; 20 maxima < 0.\n",
      "Mode 1, Iteration 1200\n",
      "0 minima > 0; 19 maxima < 0.\n",
      "Mode 1, Iteration 1400\n",
      "0 minima > 0; 20 maxima < 0.\n",
      "Mode 1, Iteration 1600\n",
      "0 minima > 0; 19 maxima < 0.\n",
      "Mode 1, Iteration 1800\n",
      "0 minima > 0; 22 maxima < 0.\n",
      "Mode 1, Iteration 600\n",
      "2 minima > 0; 13 maxima < 0.\n",
      "Mode 1, Iteration 800\n",
      "1 minima > 0; 13 maxima < 0.\n",
      "Mode 1, Iteration 1000\n",
      "0 minima > 0; 15 maxima < 0.\n",
      "Mode 1, Iteration 1200\n",
      "0 minima > 0; 14 maxima < 0.\n",
      "Mode 1, Iteration 1400\n",
      "0 minima > 0; 15 maxima < 0.\n",
      "Mode 1, Iteration 1600\n",
      "0 minima > 0; 14 maxima < 0.\n",
      "Mode 2, Iteration 1800\n",
      "0 minima > 0; 10 maxima < 0.\n",
      "Mode 3, Iteration 600\n",
      "0 minima > 0; 6 maxima < 0.\n",
      "Mode 1, Iteration 600\n",
      "0 minima > 0; 29 maxima < 0.\n",
      "Mode 1, Iteration 800\n",
      "0 minima > 0; 29 maxima < 0.\n",
      "Mode 1, Iteration 1000\n",
      "0 minima > 0; 29 maxima < 0.\n",
      "Mode 1, Iteration 1200\n",
      "0 minima > 0; 29 maxima < 0.\n",
      "Mode 1, Iteration 1400\n",
      "0 minima > 0; 29 maxima < 0.\n",
      "Mode 5, Iteration 1600\n",
      "0 minima > 0; 3 maxima < 0.\n",
      "Mode 1, Iteration 600\n",
      "0 minima > 0; 33 maxima < 0.\n",
      "Mode 1, Iteration 800\n",
      "0 minima > 0; 30 maxima < 0.\n",
      "Mode 1, Iteration 1000\n",
      "0 minima > 0; 29 maxima < 0.\n",
      "Mode 1, Iteration 1200\n",
      "1 minima > 0; 30 maxima < 0.\n",
      "Mode 1, Iteration 1400\n",
      "0 minima > 0; 31 maxima < 0.\n",
      "Mode 1, Iteration 1600\n",
      "0 minima > 0; 31 maxima < 0.\n",
      "Mode 1, Iteration 1800\n",
      "0 minima > 0; 31 maxima < 0.\n",
      "Mode 1, Iteration 600\n",
      "1 minima > 0; 26 maxima < 0.\n",
      "Mode 1, Iteration 800\n",
      "1 minima > 0; 25 maxima < 0.\n",
      "Mode 1, Iteration 1000\n",
      "1 minima > 0; 26 maxima < 0.\n",
      "Mode 1, Iteration 1200\n",
      "0 minima > 0; 26 maxima < 0.\n",
      "Mode 1, Iteration 1400\n",
      "0 minima > 0; 26 maxima < 0.\n",
      "Mode 1, Iteration 1600\n",
      "0 minima > 0; 26 maxima < 0.\n",
      "Mode 1, Iteration 1800\n",
      "0 minima > 0; 27 maxima < 0.\n",
      "Mode 1, Iteration 600\n",
      "3 minima > 0; 16 maxima < 0.\n",
      "Mode 1, Iteration 800\n",
      "0 minima > 0; 20 maxima < 0.\n",
      "Mode 1, Iteration 1000\n",
      "0 minima > 0; 18 maxima < 0.\n",
      "Mode 2, Iteration 1200\n",
      "0 minima > 0; 12 maxima < 0.\n",
      "Mode 1, Iteration 600\n",
      "0 minima > 0; 16 maxima < 0.\n",
      "Mode 1, Iteration 800\n",
      "0 minima > 0; 17 maxima < 0.\n",
      "Mode 1, Iteration 1000\n",
      "0 minima > 0; 18 maxima < 0.\n",
      "Mode 1, Iteration 1200\n",
      "0 minima > 0; 17 maxima < 0.\n",
      "Mode 1, Iteration 1400\n",
      "0 minima > 0; 17 maxima < 0.\n",
      "Mode 1, Iteration 1600\n",
      "0 minima > 0; 18 maxima < 0.\n",
      "Mode 1, Iteration 1800\n",
      "0 minima > 0; 18 maxima < 0.\n",
      "Mode 1, Iteration 600\n",
      "0 minima > 0; 19 maxima < 0.\n",
      "Mode 1, Iteration 800\n",
      "0 minima > 0; 18 maxima < 0.\n",
      "Mode 1, Iteration 1000\n",
      "0 minima > 0; 19 maxima < 0.\n",
      "Mode 1, Iteration 1200\n",
      "0 minima > 0; 18 maxima < 0.\n",
      "Mode 1, Iteration 1400\n",
      "0 minima > 0; 18 maxima < 0.\n",
      "Mode 1, Iteration 1600\n",
      "0 minima > 0; 18 maxima < 0.\n",
      "Mode 1, Iteration 1800\n",
      "0 minima > 0; 19 maxima < 0.\n",
      "Mode 1, Iteration 600\n",
      "0 minima > 0; 18 maxima < 0.\n",
      "Mode 1, Iteration 800\n",
      "0 minima > 0; 17 maxima < 0.\n",
      "Mode 1, Iteration 1000\n",
      "0 minima > 0; 20 maxima < 0.\n",
      "Mode 1, Iteration 1200\n",
      "0 minima > 0; 17 maxima < 0.\n",
      "Mode 1, Iteration 1400\n",
      "0 minima > 0; 18 maxima < 0.\n",
      "Mode 1, Iteration 1600\n",
      "0 minima > 0; 18 maxima < 0.\n",
      "Mode 1, Iteration 1800\n",
      "0 minima > 0; 17 maxima < 0.\n"
     ]
    },
    {
     "name": "stderr",
     "output_type": "stream",
     "text": [
      "c:\\Users\\tomda\\source\\pytho\\lib\\site-packages\\pyhht\\emd.py:367: UserWarning: Emd:warning, Forced stop of sifting - Maximum iteration limit reached.\n",
      "  warnings.warn(\"Emd:warning, Forced stop of sifting - \" +\n"
     ]
    }
   ],
   "source": [
    "x1 = Run('FirstDataFrame2.csv')\n",
    "x1.RunGreys()"
   ],
   "metadata": {
    "collapsed": false,
    "pycharm": {
     "name": "#%%\n",
     "is_executing": true
    }
   }
  },
  {
   "cell_type": "code",
   "execution_count": 18,
   "outputs": [],
   "source": [],
   "metadata": {
    "collapsed": false,
    "pycharm": {
     "name": "#%%\n"
    }
   }
  },
  {
   "cell_type": "code",
   "execution_count": 18,
   "outputs": [],
   "source": [],
   "metadata": {
    "collapsed": false,
    "pycharm": {
     "name": "#%%\n"
    }
   }
  },
  {
   "cell_type": "code",
   "execution_count": 18,
   "outputs": [],
   "source": [],
   "metadata": {
    "collapsed": false,
    "pycharm": {
     "name": "#%%\n"
    }
   }
  },
  {
   "cell_type": "code",
   "execution_count": 2,
   "outputs": [],
   "source": [],
   "metadata": {
    "collapsed": false,
    "pycharm": {
     "name": "#%%\n"
    }
   }
  },
  {
   "cell_type": "code",
   "execution_count": 2,
   "outputs": [],
   "source": [],
   "metadata": {
    "collapsed": false,
    "pycharm": {
     "name": "#%%\n"
    }
   }
  },
  {
   "cell_type": "code",
   "execution_count": null,
   "outputs": [],
   "source": [],
   "metadata": {
    "collapsed": false,
    "pycharm": {
     "name": "#%%\n"
    }
   }
  },
  {
   "cell_type": "code",
   "execution_count": 18,
   "outputs": [],
   "source": [],
   "metadata": {
    "collapsed": false,
    "pycharm": {
     "name": "#%%\n"
    }
   }
  }
 ],
 "metadata": {
  "kernelspec": {
   "name": "python37764bitfcaeba8ec0034e88ab2ae4e6f7b7e14a",
   "language": "python",
   "display_name": "Python 3.7.7 64-bit"
  },
  "language_info": {
   "codemirror_mode": {
    "name": "ipython",
    "version": 2
   },
   "file_extension": ".py",
   "mimetype": "text/x-python",
   "name": "python",
   "nbconvert_exporter": "python",
   "pygments_lexer": "ipython2",
   "version": "2.7.6"
  }
 },
 "nbformat": 4,
 "nbformat_minor": 0
}