{
 "cells": [
  {
   "cell_type": "code",
   "execution_count": 1,
   "metadata": {
    "collapsed": true
   },
   "outputs": [],
   "source": [
    "from First_Mission_Scripts import Run"
   ]
  },
  {
   "cell_type": "code",
   "execution_count": null,
   "outputs": [
    {
     "name": "stdout",
     "output_type": "stream",
     "text": [
      "00143.jpg\n",
      "Mode 5, Iteration 600\n",
      "1 minima > 0; 5 maxima < 0.\n",
      "Mode 6, Iteration 800\n",
      "0 minima > 0; 4 maxima < 0.\n",
      "Mode 5, Iteration 600\n",
      "0 minima > 0; 5 maxima < 0.\n",
      "Mode 3, Iteration 600\n",
      "0 minima > 0; 23 maxima < 0.\n",
      "Mode 6, Iteration 600\n",
      "0 minima > 0; 5 maxima < 0.\n",
      "Mode 3, Iteration 600\n",
      "0 minima > 0; 27 maxima < 0.\n",
      "Mode 3, Iteration 600\n",
      "0 minima > 0; 34 maxima < 0.\n",
      "Mode 4, Iteration 600\n",
      "0 minima > 0; 11 maxima < 0.\n",
      "Mode 5, Iteration 600\n",
      "1 minima > 0; 5 maxima < 0.\n",
      "Mode 5, Iteration 600\n",
      "0 minima > 0; 8 maxima < 0.\n",
      "Mode 6, Iteration 800\n",
      "0 minima > 0; 4 maxima < 0.\n",
      "Mode 5, Iteration 600\n",
      "0 minima > 0; 11 maxima < 0.\n",
      "Mode 3, Iteration 600\n",
      "0 minima > 0; 28 maxima < 0.\n",
      "Mode 4, Iteration 800\n",
      "0 minima > 0; 19 maxima < 0.\n",
      "Mode 5, Iteration 1000\n",
      "0 minima > 0; 12 maxima < 0.\n",
      "Mode 5, Iteration 600\n",
      "0 minima > 0; 12 maxima < 0.\n",
      "Mode 6, Iteration 600\n",
      "1 minima > 0; 4 maxima < 0.\n",
      "Mode 6, Iteration 600\n",
      "0 minima > 0; 4 maxima < 0.\n",
      "Mode 5, Iteration 600\n",
      "0 minima > 0; 9 maxima < 0.\n",
      "Mode 5, Iteration 600\n",
      "0 minima > 0; 12 maxima < 0.\n",
      "Mode 7, Iteration 800\n",
      "0 minima > 0; 6 maxima < 0.\n",
      "Mode 5, Iteration 600\n",
      "0 minima > 0; 9 maxima < 0.\n",
      "Mode 4, Iteration 600\n",
      "1 minima > 0; 20 maxima < 0.\n",
      "Mode 3, Iteration 600\n",
      "0 minima > 0; 28 maxima < 0.\n",
      "Mode 4, Iteration 800\n",
      "1 minima > 0; 18 maxima < 0.\n",
      "Mode 5, Iteration 1000\n",
      "0 minima > 0; 10 maxima < 0.\n",
      "Mode 6, Iteration 1200\n",
      "0 minima > 0; 7 maxima < 0.\n",
      "Mode 2, Iteration 600\n",
      "1 minima > 0; 54 maxima < 0.\n",
      "Mode 2, Iteration 800\n",
      "0 minima > 0; 53 maxima < 0.\n",
      "Mode 2, Iteration 1000\n",
      "0 minima > 0; 51 maxima < 0.\n",
      "Mode 2, Iteration 1200\n",
      "0 minima > 0; 52 maxima < 0.\n",
      "Mode 3, Iteration 1400\n",
      "1 minima > 0; 29 maxima < 0.\n"
     ]
    }
   ],
   "source": [
    "x1 = Run('FirstDataFrame2.csv')\n",
    "x1.RunGreys()"
   ],
   "metadata": {
    "collapsed": false,
    "pycharm": {
     "name": "#%%\n",
     "is_executing": true
    }
   }
  },
  {
   "cell_type": "code",
   "execution_count": null,
   "outputs": [],
   "source": [],
   "metadata": {
    "collapsed": false,
    "pycharm": {
     "name": "#%%\n"
    }
   }
  },
  {
   "cell_type": "code",
   "execution_count": null,
   "outputs": [],
   "source": [
    "\n"
   ],
   "metadata": {
    "collapsed": false,
    "pycharm": {
     "name": "#%%\n"
    }
   }
  }
 ],
 "metadata": {
  "kernelspec": {
   "name": "python37764bitfcaeba8ec0034e88ab2ae4e6f7b7e14a",
   "language": "python",
   "display_name": "Python 3.7.7 64-bit"
  },
  "language_info": {
   "codemirror_mode": {
    "name": "ipython",
    "version": 2
   },
   "file_extension": ".py",
   "mimetype": "text/x-python",
   "name": "python",
   "nbconvert_exporter": "python",
   "pygments_lexer": "ipython2",
   "version": "2.7.6"
  }
 },
 "nbformat": 4,
 "nbformat_minor": 0
}