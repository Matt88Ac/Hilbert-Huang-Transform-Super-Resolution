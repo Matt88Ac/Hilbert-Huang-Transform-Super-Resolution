{
 "cells": [
  {
   "cell_type": "code",
   "execution_count": 1,
   "metadata": {},
   "outputs": [],
   "source": [
    "import pandas as pd\n",
    "df = pd.DataFrame(columns=['File Name',\n",
    "                           'No Cols',\n",
    "                           'No Rows',\n",
    "                           'No IMFs',\n",
    "                           'Best RMSE',\n",
    "                           'Best SSIM',\n",
    "                           'Best PSNR'])\n",
    "df.to_csv('SR_Results.csv', index=False, index_label=False)"
   ]
  },
  {
   "cell_type": "code",
   "execution_count": 2,
   "metadata": {
    "pycharm": {
     "name": "#%%\n"
    }
   },
   "outputs": [],
   "source": [
    "import pandas as pd\n",
    "df = pd.DataFrame(columns=['File Name',\n",
    "                           'Cols',\n",
    "                           'Rows',\n",
    "                           'IMF Name',\n",
    "                           'IMF Spot',\n",
    "                           'Interpolation Method',\n",
    "                           'Mean Frequency',\n",
    "                           'Variance Frequency',\n",
    "                           'Median Frequency',\n",
    "                           'Skewness Frequency',\n",
    "                           'Kurtosis Frequency',\n",
    "                           'Entropy Frequency',\n",
    "                           'Shapiro Frequency',\n",
    "                           'Uniformity Frequency',\n",
    "                           'Mean Color',\n",
    "                           'Variance Color',\n",
    "                           'Median Color',\n",
    "                           'Skewness Color',\n",
    "                           'Kurtosis Color',\n",
    "                           'Entropy Color',\n",
    "                           'Shapiro Color',\n",
    "                           'Uniformity Color'])\n",
    "df.to_csv('interpolations.csv', index=False, index_label=False)\n"
   ]
  },
  {
   "cell_type": "code",
   "execution_count": 7,
   "metadata": {
    "pycharm": {
     "name": "#%%\n"
    }
   },
   "outputs": [],
   "source": [
    "import pickle\n",
    "from sklearn.ensemble import RandomForestClassifier\n",
    "model:RandomForestClassifier = pickle.load(open('random_forest_model.pkl', 'rb'))"
   ]
  },
  {
   "cell_type": "code",
   "execution_count": 8,
   "outputs": [
    {
     "data": {
      "text/plain": "100"
     },
     "execution_count": 8,
     "metadata": {},
     "output_type": "execute_result"
    }
   ],
   "source": [
    "len(model)"
   ],
   "metadata": {
    "collapsed": false,
    "pycharm": {
     "name": "#%%\n"
    }
   }
  },
  {
   "cell_type": "code",
   "execution_count": null,
   "metadata": {
    "pycharm": {
     "name": "#%%\n"
    }
   },
   "outputs": [],
   "source": []
  },
  {
   "cell_type": "code",
   "execution_count": null,
   "metadata": {
    "pycharm": {
     "name": "#%%\n"
    }
   },
   "outputs": [],
   "source": []
  },
  {
   "cell_type": "code",
   "execution_count": null,
   "metadata": {
    "pycharm": {
     "name": "#%%\n"
    }
   },
   "outputs": [],
   "source": [
    "\n"
   ]
  }
 ],
 "metadata": {
  "kernelspec": {
   "display_name": "Python 3.7.7 64-bit",
   "language": "python",
   "name": "python37764bitfcaeba8ec0034e88ab2ae4e6f7b7e14a"
  },
  "language_info": {
   "codemirror_mode": {
    "name": "ipython",
    "version": 3
   },
   "file_extension": ".py",
   "mimetype": "text/x-python",
   "name": "python",
   "nbconvert_exporter": "python",
   "pygments_lexer": "ipython3",
   "version": "3.7.7"
  }
 },
 "nbformat": 4,
 "nbformat_minor": 1
}