{
 "cells": [
  {
   "cell_type": "code",
   "execution_count": 1,
   "metadata": {},
   "outputs": [],
   "source": [
    "import pandas as pd\n",
    "df = pd.read_csv('imputed_interpolations.csv')"
   ]
  },
  {
   "cell_type": "code",
   "execution_count": 2,
   "outputs": [
    {
     "data": {
      "text/plain": "                    Mean Frequency  Variance Frequency      Rows      Cols  \\\nMean Frequency            1.000000            0.741983  0.073137  0.140895   \nVariance Frequency        0.741983            1.000000  0.059571  0.100644   \nRows                      0.073137            0.059571  1.000000  0.769681   \nCols                      0.140895            0.100644  0.769681  1.000000   \nMedian Frequency          0.511835            0.058638 -0.040090  0.011493   \nSkewness Frequency        0.270354            0.067699  0.022700  0.017504   \nKurtosis Frequency        0.219254            0.060306  0.045491  0.042721   \nMean Color               -0.026849           -0.007825 -0.026755 -0.018780   \nVariance Color            0.378097            0.071308 -0.035390 -0.031465   \nMedian Color             -0.016827           -0.002612 -0.027745 -0.029362   \nSkewness Color           -0.008428            0.008547  0.009324  0.000979   \nKurtosis Color            0.268379            0.066966  0.001376 -0.007108   \n\n                    Median Frequency  Skewness Frequency  Kurtosis Frequency  \\\nMean Frequency              0.511835            0.270354            0.219254   \nVariance Frequency          0.058638            0.067699            0.060306   \nRows                       -0.040090            0.022700            0.045491   \nCols                        0.011493            0.017504            0.042721   \nMedian Frequency            1.000000            0.487153            0.389817   \nSkewness Frequency          0.487153            1.000000            0.960515   \nKurtosis Frequency          0.389817            0.960515            1.000000   \nMean Color                 -0.106279            0.030051            0.060055   \nVariance Color              0.697372            0.855520            0.766042   \nMedian Color               -0.078264            0.029500            0.055019   \nSkewness Color             -0.011716            0.226738            0.247451   \nKurtosis Color              0.489149            0.982700            0.931274   \n\n                    Mean Color  Variance Color  Median Color  Skewness Color  \\\nMean Frequency       -0.026849        0.378097     -0.016827       -0.008428   \nVariance Frequency   -0.007825        0.071308     -0.002612        0.008547   \nRows                 -0.026755       -0.035390     -0.027745        0.009324   \nCols                 -0.018780       -0.031465     -0.029362        0.000979   \nMedian Frequency     -0.106279        0.697372     -0.078264       -0.011716   \nSkewness Frequency    0.030051        0.855520      0.029500        0.226738   \nKurtosis Frequency    0.060055        0.766042      0.055019        0.247451   \nMean Color            1.000000       -0.037346      0.819863        0.210461   \nVariance Color       -0.037346        1.000000     -0.009459        0.003969   \nMedian Color          0.819863       -0.009459      1.000000        0.007163   \nSkewness Color        0.210461        0.003969      0.007163        1.000000   \nKurtosis Color       -0.020906        0.872649     -0.014770        0.237398   \n\n                    Kurtosis Color  \nMean Frequency            0.268379  \nVariance Frequency        0.066966  \nRows                      0.001376  \nCols                     -0.007108  \nMedian Frequency          0.489149  \nSkewness Frequency        0.982700  \nKurtosis Frequency        0.931274  \nMean Color               -0.020906  \nVariance Color            0.872649  \nMedian Color             -0.014770  \nSkewness Color            0.237398  \nKurtosis Color            1.000000  ",
      "text/html": "<div>\n<style scoped>\n    .dataframe tbody tr th:only-of-type {\n        vertical-align: middle;\n    }\n\n    .dataframe tbody tr th {\n        vertical-align: top;\n    }\n\n    .dataframe thead th {\n        text-align: right;\n    }\n</style>\n<table border=\"1\" class=\"dataframe\">\n  <thead>\n    <tr style=\"text-align: right;\">\n      <th></th>\n      <th>Mean Frequency</th>\n      <th>Variance Frequency</th>\n      <th>Rows</th>\n      <th>Cols</th>\n      <th>Median Frequency</th>\n      <th>Skewness Frequency</th>\n      <th>Kurtosis Frequency</th>\n      <th>Mean Color</th>\n      <th>Variance Color</th>\n      <th>Median Color</th>\n      <th>Skewness Color</th>\n      <th>Kurtosis Color</th>\n    </tr>\n  </thead>\n  <tbody>\n    <tr>\n      <th>Mean Frequency</th>\n      <td>1.000000</td>\n      <td>0.741983</td>\n      <td>0.073137</td>\n      <td>0.140895</td>\n      <td>0.511835</td>\n      <td>0.270354</td>\n      <td>0.219254</td>\n      <td>-0.026849</td>\n      <td>0.378097</td>\n      <td>-0.016827</td>\n      <td>-0.008428</td>\n      <td>0.268379</td>\n    </tr>\n    <tr>\n      <th>Variance Frequency</th>\n      <td>0.741983</td>\n      <td>1.000000</td>\n      <td>0.059571</td>\n      <td>0.100644</td>\n      <td>0.058638</td>\n      <td>0.067699</td>\n      <td>0.060306</td>\n      <td>-0.007825</td>\n      <td>0.071308</td>\n      <td>-0.002612</td>\n      <td>0.008547</td>\n      <td>0.066966</td>\n    </tr>\n    <tr>\n      <th>Rows</th>\n      <td>0.073137</td>\n      <td>0.059571</td>\n      <td>1.000000</td>\n      <td>0.769681</td>\n      <td>-0.040090</td>\n      <td>0.022700</td>\n      <td>0.045491</td>\n      <td>-0.026755</td>\n      <td>-0.035390</td>\n      <td>-0.027745</td>\n      <td>0.009324</td>\n      <td>0.001376</td>\n    </tr>\n    <tr>\n      <th>Cols</th>\n      <td>0.140895</td>\n      <td>0.100644</td>\n      <td>0.769681</td>\n      <td>1.000000</td>\n      <td>0.011493</td>\n      <td>0.017504</td>\n      <td>0.042721</td>\n      <td>-0.018780</td>\n      <td>-0.031465</td>\n      <td>-0.029362</td>\n      <td>0.000979</td>\n      <td>-0.007108</td>\n    </tr>\n    <tr>\n      <th>Median Frequency</th>\n      <td>0.511835</td>\n      <td>0.058638</td>\n      <td>-0.040090</td>\n      <td>0.011493</td>\n      <td>1.000000</td>\n      <td>0.487153</td>\n      <td>0.389817</td>\n      <td>-0.106279</td>\n      <td>0.697372</td>\n      <td>-0.078264</td>\n      <td>-0.011716</td>\n      <td>0.489149</td>\n    </tr>\n    <tr>\n      <th>Skewness Frequency</th>\n      <td>0.270354</td>\n      <td>0.067699</td>\n      <td>0.022700</td>\n      <td>0.017504</td>\n      <td>0.487153</td>\n      <td>1.000000</td>\n      <td>0.960515</td>\n      <td>0.030051</td>\n      <td>0.855520</td>\n      <td>0.029500</td>\n      <td>0.226738</td>\n      <td>0.982700</td>\n    </tr>\n    <tr>\n      <th>Kurtosis Frequency</th>\n      <td>0.219254</td>\n      <td>0.060306</td>\n      <td>0.045491</td>\n      <td>0.042721</td>\n      <td>0.389817</td>\n      <td>0.960515</td>\n      <td>1.000000</td>\n      <td>0.060055</td>\n      <td>0.766042</td>\n      <td>0.055019</td>\n      <td>0.247451</td>\n      <td>0.931274</td>\n    </tr>\n    <tr>\n      <th>Mean Color</th>\n      <td>-0.026849</td>\n      <td>-0.007825</td>\n      <td>-0.026755</td>\n      <td>-0.018780</td>\n      <td>-0.106279</td>\n      <td>0.030051</td>\n      <td>0.060055</td>\n      <td>1.000000</td>\n      <td>-0.037346</td>\n      <td>0.819863</td>\n      <td>0.210461</td>\n      <td>-0.020906</td>\n    </tr>\n    <tr>\n      <th>Variance Color</th>\n      <td>0.378097</td>\n      <td>0.071308</td>\n      <td>-0.035390</td>\n      <td>-0.031465</td>\n      <td>0.697372</td>\n      <td>0.855520</td>\n      <td>0.766042</td>\n      <td>-0.037346</td>\n      <td>1.000000</td>\n      <td>-0.009459</td>\n      <td>0.003969</td>\n      <td>0.872649</td>\n    </tr>\n    <tr>\n      <th>Median Color</th>\n      <td>-0.016827</td>\n      <td>-0.002612</td>\n      <td>-0.027745</td>\n      <td>-0.029362</td>\n      <td>-0.078264</td>\n      <td>0.029500</td>\n      <td>0.055019</td>\n      <td>0.819863</td>\n      <td>-0.009459</td>\n      <td>1.000000</td>\n      <td>0.007163</td>\n      <td>-0.014770</td>\n    </tr>\n    <tr>\n      <th>Skewness Color</th>\n      <td>-0.008428</td>\n      <td>0.008547</td>\n      <td>0.009324</td>\n      <td>0.000979</td>\n      <td>-0.011716</td>\n      <td>0.226738</td>\n      <td>0.247451</td>\n      <td>0.210461</td>\n      <td>0.003969</td>\n      <td>0.007163</td>\n      <td>1.000000</td>\n      <td>0.237398</td>\n    </tr>\n    <tr>\n      <th>Kurtosis Color</th>\n      <td>0.268379</td>\n      <td>0.066966</td>\n      <td>0.001376</td>\n      <td>-0.007108</td>\n      <td>0.489149</td>\n      <td>0.982700</td>\n      <td>0.931274</td>\n      <td>-0.020906</td>\n      <td>0.872649</td>\n      <td>-0.014770</td>\n      <td>0.237398</td>\n      <td>1.000000</td>\n    </tr>\n  </tbody>\n</table>\n</div>"
     },
     "execution_count": 2,
     "metadata": {},
     "output_type": "execute_result"
    }
   ],
   "source": [
    "df.corr()\n"
   ],
   "metadata": {
    "collapsed": false,
    "pycharm": {
     "name": "#%%\n"
    }
   }
  },
  {
   "cell_type": "code",
   "execution_count": null,
   "outputs": [],
   "source": [],
   "metadata": {
    "collapsed": false,
    "pycharm": {
     "name": "#%%\n"
    }
   }
  },
  {
   "cell_type": "code",
   "execution_count": null,
   "outputs": [],
   "source": [],
   "metadata": {
    "collapsed": false,
    "pycharm": {
     "name": "#%%\n"
    }
   }
  },
  {
   "cell_type": "code",
   "execution_count": 2,
   "metadata": {
    "pycharm": {
     "name": "#%%\n"
    }
   },
   "outputs": [],
   "source": [
    "import pandas as pd\n",
    "df = pd.DataFrame(columns=['File Name',\n",
    "                           'Cols',\n",
    "                           'Rows',\n",
    "                           'IMF Name',\n",
    "                           'IMF Spot',\n",
    "                           'Interpolation Method',\n",
    "                           'Mean Frequency',\n",
    "                           'Variance Frequency',\n",
    "                           'Median Frequency',\n",
    "                           'Skewness Frequency',\n",
    "                           'Kurtosis Frequency',\n",
    "                           'Entropy Frequency',\n",
    "                           'Shapiro Frequency',\n",
    "                           'Uniformity Frequency',\n",
    "                           'Mean Color',\n",
    "                           'Variance Color',\n",
    "                           'Median Color',\n",
    "                           'Skewness Color',\n",
    "                           'Kurtosis Color',\n",
    "                           'Entropy Color',\n",
    "                           'Shapiro Color',\n",
    "                           'Uniformity Color'])\n",
    "df.to_csv('interpolations.csv', index=False, index_label=False)\n"
   ]
  },
  {
   "cell_type": "code",
   "execution_count": 7,
   "metadata": {
    "pycharm": {
     "name": "#%%\n"
    }
   },
   "outputs": [],
   "source": [
    "import pickle\n",
    "from sklearn.ensemble import RandomForestClassifier\n",
    "model:RandomForestClassifier = pickle.load(open('random_forest_model.pkl', 'rb'))"
   ]
  },
  {
   "cell_type": "code",
   "execution_count": 8,
   "outputs": [
    {
     "data": {
      "text/plain": "100"
     },
     "execution_count": 8,
     "metadata": {},
     "output_type": "execute_result"
    }
   ],
   "source": [
    "len(model)"
   ],
   "metadata": {
    "collapsed": false,
    "pycharm": {
     "name": "#%%\n"
    }
   }
  },
  {
   "cell_type": "code",
   "execution_count": null,
   "metadata": {
    "pycharm": {
     "name": "#%%\n"
    }
   },
   "outputs": [],
   "source": []
  },
  {
   "cell_type": "code",
   "execution_count": null,
   "metadata": {
    "pycharm": {
     "name": "#%%\n"
    }
   },
   "outputs": [],
   "source": []
  },
  {
   "cell_type": "code",
   "execution_count": null,
   "metadata": {
    "pycharm": {
     "name": "#%%\n"
    }
   },
   "outputs": [],
   "source": [
    "\n"
   ]
  }
 ],
 "metadata": {
  "kernelspec": {
   "display_name": "Python 3.7.7 64-bit",
   "language": "python",
   "name": "python37764bitfcaeba8ec0034e88ab2ae4e6f7b7e14a"
  },
  "language_info": {
   "codemirror_mode": {
    "name": "ipython",
    "version": 3
   },
   "file_extension": ".py",
   "mimetype": "text/x-python",
   "name": "python",
   "nbconvert_exporter": "python",
   "pygments_lexer": "ipython3",
   "version": "3.7.7"
  }
 },
 "nbformat": 4,
 "nbformat_minor": 1
}